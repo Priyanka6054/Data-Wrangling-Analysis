{
 "cells": [
  {
   "cell_type": "markdown",
   "id": "b14837a6",
   "metadata": {},
   "source": [
    "## 1. Create a null vector of size 10 but the fifth value which is 1."
   ]
  },
  {
   "cell_type": "code",
   "execution_count": 24,
   "id": "42723b5a",
   "metadata": {},
   "outputs": [
    {
     "name": "stdout",
     "output_type": "stream",
     "text": [
      "[0. 0. 0. 0. 1. 0. 0. 0. 0. 0.]\n"
     ]
    }
   ],
   "source": [
    "import numpy as np\n",
    "\n",
    "# Create a null vector of size 10\n",
    "null_vector = np.zeros(10)\n",
    "\n",
    "# Set the fifth value to 1\n",
    "null_vector[4] = 1\n",
    "\n",
    "print(null_vector)\n"
   ]
  },
  {
   "cell_type": "markdown",
   "id": "5b95f148",
   "metadata": {},
   "source": [
    "## 2. Create a vector with values ranging from 10 to 49."
   ]
  },
  {
   "cell_type": "code",
   "execution_count": 25,
   "id": "c2694ad3",
   "metadata": {},
   "outputs": [
    {
     "name": "stdout",
     "output_type": "stream",
     "text": [
      "[10 11 12 13 14 15 16 17 18 19 20 21 22 23 24 25 26 27 28 29 30 31 32 33\n",
      " 34 35 36 37 38 39 40 41 42 43 44 45 46 47 48]\n"
     ]
    }
   ],
   "source": [
    "vector_10_to_49 = np.arange(10, 49)\n",
    "\n",
    "print(vector_10_to_49)\n"
   ]
  },
  {
   "cell_type": "markdown",
   "id": "f8983531",
   "metadata": {},
   "source": [
    "## 3. Create a 3x3 matrix with values ranging from 0 to 8"
   ]
  },
  {
   "cell_type": "code",
   "execution_count": 28,
   "id": "734d7f6f",
   "metadata": {},
   "outputs": [
    {
     "name": "stdout",
     "output_type": "stream",
     "text": [
      "[[0 1 2]\n",
      " [3 4 5]\n",
      " [6 7 8]]\n"
     ]
    }
   ],
   "source": [
    "matrix_3x3 = np.arange(9).reshape(3, 3)\n",
    "print(matrix_3x3)"
   ]
  },
  {
   "cell_type": "markdown",
   "id": "778e8bfc",
   "metadata": {},
   "source": [
    "## 4. Find indices of non-zero elements from [1,2,0,0,4,0]"
   ]
  },
  {
   "cell_type": "code",
   "execution_count": 29,
   "id": "89f62c3c",
   "metadata": {},
   "outputs": [
    {
     "name": "stdout",
     "output_type": "stream",
     "text": [
      "(array([0, 1, 4], dtype=int64),)\n"
     ]
    }
   ],
   "source": [
    "# Find indices of non-zero elements from [1, 2, 0, 0, 4, 0]\n",
    "arr = np.array([1, 2, 0, 0, 4, 0])\n",
    "non_zero_indices = np.nonzero(arr)\n",
    "\n",
    "print(non_zero_indices)\n"
   ]
  },
  {
   "cell_type": "markdown",
   "id": "73cd6c39",
   "metadata": {},
   "source": [
    "## 5. Create a 10x10 array with random values and find the minimum and maximum values."
   ]
  },
  {
   "cell_type": "code",
   "execution_count": 30,
   "id": "7bf8aa51",
   "metadata": {},
   "outputs": [
    {
     "name": "stdout",
     "output_type": "stream",
     "text": [
      "Minimum value: 0.026218656981996435\n",
      "Maximum value: 0.9853816679666267\n"
     ]
    }
   ],
   "source": [
    "# Create a 10x10 array with random values\n",
    "random_array_10x10 = np.random.random((10, 10))\n",
    "\n",
    "# Find the minimum and maximum values\n",
    "min_value = np.min(random_array_10x10)\n",
    "max_value = np.max(random_array_10x10)\n",
    "\n",
    "print(\"Minimum value:\", min_value)\n",
    "print(\"Maximum value:\", max_value)"
   ]
  },
  {
   "cell_type": "markdown",
   "id": "77f75e76",
   "metadata": {},
   "source": [
    "## 6. Create a random vector of size 30 and find the mean value."
   ]
  },
  {
   "cell_type": "code",
   "execution_count": 31,
   "id": "422cdbd0",
   "metadata": {},
   "outputs": [
    {
     "name": "stdout",
     "output_type": "stream",
     "text": [
      "Random Vector: [0.90894217 0.36135841 0.8063139  0.83417544 0.63006164 0.22105055\n",
      " 0.67380476 0.20932396 0.45133741 0.6808756  0.41338467 0.21299023\n",
      " 0.36503883 0.85091181 0.27694803 0.41664074 0.94259545 0.43867397\n",
      " 0.44081039 0.4433687  0.85998208 0.93219684 0.87736332 0.68055975\n",
      " 0.76189567 0.13228717 0.86296424 0.60949802 0.95199442 0.77572808]\n",
      "Mean value: 0.600769208791796\n"
     ]
    }
   ],
   "source": [
    "# Create a random vector of size 30\n",
    "random_vector_size = np.random.random(30)\n",
    "\n",
    "# Find the mean value\n",
    "mean_value = np.mean(random_vector_size)\n",
    "\n",
    "print(\"Random Vector:\", random_vector_size)\n",
    "print(\"Mean value:\", mean_value)"
   ]
  },
  {
   "cell_type": "code",
   "execution_count": null,
   "id": "b48eed3d",
   "metadata": {},
   "outputs": [],
   "source": []
  },
  {
   "cell_type": "code",
   "execution_count": null,
   "id": "15badb3f",
   "metadata": {},
   "outputs": [],
   "source": []
  }
 ],
 "metadata": {
  "kernelspec": {
   "display_name": "Python 3 (ipykernel)",
   "language": "python",
   "name": "python3"
  },
  "language_info": {
   "codemirror_mode": {
    "name": "ipython",
    "version": 3
   },
   "file_extension": ".py",
   "mimetype": "text/x-python",
   "name": "python",
   "nbconvert_exporter": "python",
   "pygments_lexer": "ipython3",
   "version": "3.11.4"
  }
 },
 "nbformat": 4,
 "nbformat_minor": 5
}
